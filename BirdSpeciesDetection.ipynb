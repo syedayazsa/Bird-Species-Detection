{
  "nbformat": 4,
  "nbformat_minor": 0,
  "metadata": {
    "colab": {
      "name": "BirdSpeciesDetection.ipynb",
      "provenance": [],
      "collapsed_sections": [],
      "authorship_tag": "ABX9TyOSSi3NDKAqanSkUd+Ajl5p",
      "include_colab_link": true
    },
    "kernelspec": {
      "name": "python3",
      "display_name": "Python 3"
    },
    "accelerator": "GPU"
  },
  "cells": [
    {
      "cell_type": "markdown",
      "metadata": {
        "id": "view-in-github",
        "colab_type": "text"
      },
      "source": [
        "<a href=\"https://colab.research.google.com/github/syedayazsa/Bird-Species-Detection/blob/main/BirdSpeciesDetection.ipynb\" target=\"_parent\"><img src=\"https://colab.research.google.com/assets/colab-badge.svg\" alt=\"Open In Colab\"/></a>"
      ]
    },
    {
      "cell_type": "markdown",
      "metadata": {
        "id": "gVAQxWj9LQu_"
      },
      "source": [
        "# Importing Necessary Libraries"
      ]
    },
    {
      "cell_type": "code",
      "metadata": {
        "id": "svED6WzWtIu6"
      },
      "source": [
        "from keras.layers import Input, Lambda, Dense, Flatten, Dropout, BatchNormalization\n",
        "from keras.models import Model\n",
        "from keras.applications import Xception\n",
        "from keras.applications.vgg16 import preprocess_input\n",
        "from keras.preprocessing import image\n",
        "from keras.preprocessing.image import ImageDataGenerator\n",
        "from keras.models import Sequential\n",
        "from tensorflow.keras.optimizers import Adam\n",
        "import numpy as np\n",
        "from glob import glob\n",
        "import matplotlib.pyplot as plt\n",
        "import os"
      ],
      "execution_count": 1,
      "outputs": []
    },
    {
      "cell_type": "markdown",
      "metadata": {
        "id": "xr95M1pELYsS"
      },
      "source": [
        "# Downloading and Unzipping the Dataset"
      ]
    },
    {
      "cell_type": "code",
      "metadata": {
        "colab": {
          "base_uri": "https://localhost:8080/"
        },
        "id": "DoAmTpsrtXi2",
        "outputId": "9fb69a86-e5dd-4440-c5e3-868a60166c49"
      },
      "source": [
        "!wget --load-cookies /tmp/cookies.txt \"https://docs.google.com/uc?export=download&confirm=$(wget --quiet --save-cookies /tmp/cookies.txt --keep-session-cookies --no-check-certificate 'https://docs.google.com/uc?export=download&id=1Q8KOOD6KN39mZf4DBG0cHTL96Xk2mM0Z' -O- | sed -rn 's/.*confirm=([0-9A-Za-z_]+).*/\\1\\n/p')&id=1Q8KOOD6KN39mZf4DBG0cHTL96Xk2mM0Z\" -O data.zip && rm -rf /tmp/cookies.txt"
      ],
      "execution_count": 2,
      "outputs": [
        {
          "output_type": "stream",
          "text": [
            "--2021-01-29 15:53:51--  https://docs.google.com/uc?export=download&confirm=WWjT&id=1Q8KOOD6KN39mZf4DBG0cHTL96Xk2mM0Z\n",
            "Resolving docs.google.com (docs.google.com)... 142.250.73.206, 2607:f8b0:4004:829::200e\n",
            "Connecting to docs.google.com (docs.google.com)|142.250.73.206|:443... connected.\n",
            "HTTP request sent, awaiting response... 302 Moved Temporarily\n",
            "Location: https://doc-0c-90-docs.googleusercontent.com/docs/securesc/bk3cs77glhf7c91pajc8v8b7n48b43ig/jgu21iiui5in2b7624cgct60rsrbbhl5/1611935625000/06740098574178032018/09259268110472902902Z/1Q8KOOD6KN39mZf4DBG0cHTL96Xk2mM0Z?e=download [following]\n",
            "--2021-01-29 15:53:51--  https://doc-0c-90-docs.googleusercontent.com/docs/securesc/bk3cs77glhf7c91pajc8v8b7n48b43ig/jgu21iiui5in2b7624cgct60rsrbbhl5/1611935625000/06740098574178032018/09259268110472902902Z/1Q8KOOD6KN39mZf4DBG0cHTL96Xk2mM0Z?e=download\n",
            "Resolving doc-0c-90-docs.googleusercontent.com (doc-0c-90-docs.googleusercontent.com)... 172.217.13.225, 2607:f8b0:4004:809::2001\n",
            "Connecting to doc-0c-90-docs.googleusercontent.com (doc-0c-90-docs.googleusercontent.com)|172.217.13.225|:443... connected.\n",
            "HTTP request sent, awaiting response... 302 Found\n",
            "Location: https://docs.google.com/nonceSigner?nonce=e9ncvqr95ev7s&continue=https://doc-0c-90-docs.googleusercontent.com/docs/securesc/bk3cs77glhf7c91pajc8v8b7n48b43ig/jgu21iiui5in2b7624cgct60rsrbbhl5/1611935625000/06740098574178032018/09259268110472902902Z/1Q8KOOD6KN39mZf4DBG0cHTL96Xk2mM0Z?e%3Ddownload&hash=9v2p7rgvl0bio5ob57uevp3n8jcr7fg9 [following]\n",
            "--2021-01-29 15:53:51--  https://docs.google.com/nonceSigner?nonce=e9ncvqr95ev7s&continue=https://doc-0c-90-docs.googleusercontent.com/docs/securesc/bk3cs77glhf7c91pajc8v8b7n48b43ig/jgu21iiui5in2b7624cgct60rsrbbhl5/1611935625000/06740098574178032018/09259268110472902902Z/1Q8KOOD6KN39mZf4DBG0cHTL96Xk2mM0Z?e%3Ddownload&hash=9v2p7rgvl0bio5ob57uevp3n8jcr7fg9\n",
            "Connecting to docs.google.com (docs.google.com)|142.250.73.206|:443... connected.\n",
            "HTTP request sent, awaiting response... 302 Found\n",
            "Location: https://doc-0c-90-docs.googleusercontent.com/docs/securesc/bk3cs77glhf7c91pajc8v8b7n48b43ig/jgu21iiui5in2b7624cgct60rsrbbhl5/1611935625000/06740098574178032018/09259268110472902902Z/1Q8KOOD6KN39mZf4DBG0cHTL96Xk2mM0Z?e=download&nonce=e9ncvqr95ev7s&user=09259268110472902902Z&hash=qu9veae030731s9hl5oltshdlh50h60f [following]\n",
            "--2021-01-29 15:53:51--  https://doc-0c-90-docs.googleusercontent.com/docs/securesc/bk3cs77glhf7c91pajc8v8b7n48b43ig/jgu21iiui5in2b7624cgct60rsrbbhl5/1611935625000/06740098574178032018/09259268110472902902Z/1Q8KOOD6KN39mZf4DBG0cHTL96Xk2mM0Z?e=download&nonce=e9ncvqr95ev7s&user=09259268110472902902Z&hash=qu9veae030731s9hl5oltshdlh50h60f\n",
            "Connecting to doc-0c-90-docs.googleusercontent.com (doc-0c-90-docs.googleusercontent.com)|172.217.13.225|:443... connected.\n",
            "HTTP request sent, awaiting response... 200 OK\n",
            "Length: unspecified [application/x-zip-compressed]\n",
            "Saving to: ‘data.zip’\n",
            "\n",
            "data.zip                [ <=>                ]   1.37G   218MB/s    in 7.7s    \n",
            "\n",
            "2021-01-29 15:53:59 (182 MB/s) - ‘data.zip’ saved [1467405826]\n",
            "\n"
          ],
          "name": "stdout"
        }
      ]
    },
    {
      "cell_type": "code",
      "metadata": {
        "id": "73ZWgShPt0R0"
      },
      "source": [
        "!unzip '/content/data.zip'"
      ],
      "execution_count": null,
      "outputs": []
    },
    {
      "cell_type": "markdown",
      "metadata": {
        "id": "EBf89nu2LiJg"
      },
      "source": [
        "# Specifying Directory Path"
      ]
    },
    {
      "cell_type": "code",
      "metadata": {
        "colab": {
          "base_uri": "https://localhost:8080/"
        },
        "id": "ZDq9MBTJuK5K",
        "outputId": "4a9df3d9-5ace-4501-8208-cf9ae9f7633f"
      },
      "source": [
        "from glob import glob\n",
        "base_path = '/content/'\n",
        "folders = glob('train/*')\n",
        "print(len(folders))"
      ],
      "execution_count": 4,
      "outputs": [
        {
          "output_type": "stream",
          "text": [
            "225\n"
          ],
          "name": "stdout"
        }
      ]
    },
    {
      "cell_type": "code",
      "metadata": {
        "id": "1YG5VG0nuVFh"
      },
      "source": [
        "IMAGE_SIZE = [299, 299]\n",
        "\n",
        "train_path = 'train/'\n",
        "valid_path = 'valid/'"
      ],
      "execution_count": 5,
      "outputs": []
    },
    {
      "cell_type": "markdown",
      "metadata": {
        "id": "so1fhfmgLpRJ"
      },
      "source": [
        "# Preparing the Pre-trained Model"
      ]
    },
    {
      "cell_type": "code",
      "metadata": {
        "id": "AAp8P6vwvct6"
      },
      "source": [
        "Xception = Xception(input_shape=IMAGE_SIZE + [3], weights='imagenet', include_top=False)\n",
        "\n",
        "# don't train existing weights\n",
        "for layer in Xception.layers:\n",
        "  layer.trainable = False"
      ],
      "execution_count": 6,
      "outputs": []
    },
    {
      "cell_type": "code",
      "metadata": {
        "id": "mvrKYjp0vgq3"
      },
      "source": [
        "x = Flatten()(Xception.output)\n",
        "x = Dense(1024, activation='relu')(x)\n",
        "x = Dropout(0.5)(x)\n",
        "prediction = Dense(len(folders), activation='softmax')(x)"
      ],
      "execution_count": 7,
      "outputs": []
    },
    {
      "cell_type": "code",
      "metadata": {
        "colab": {
          "base_uri": "https://localhost:8080/"
        },
        "id": "DO31_dTlvmzG",
        "outputId": "5c704fef-e0f7-4932-c35a-4f86c4d85b43"
      },
      "source": [
        "model_Xception = Model(inputs=Xception.input, outputs=prediction)\n",
        "model_Xception.summary()"
      ],
      "execution_count": 8,
      "outputs": [
        {
          "output_type": "stream",
          "text": [
            "Model: \"model\"\n",
            "__________________________________________________________________________________________________\n",
            "Layer (type)                    Output Shape         Param #     Connected to                     \n",
            "==================================================================================================\n",
            "input_1 (InputLayer)            [(None, 299, 299, 3) 0                                            \n",
            "__________________________________________________________________________________________________\n",
            "block1_conv1 (Conv2D)           (None, 149, 149, 32) 864         input_1[0][0]                    \n",
            "__________________________________________________________________________________________________\n",
            "block1_conv1_bn (BatchNormaliza (None, 149, 149, 32) 128         block1_conv1[0][0]               \n",
            "__________________________________________________________________________________________________\n",
            "block1_conv1_act (Activation)   (None, 149, 149, 32) 0           block1_conv1_bn[0][0]            \n",
            "__________________________________________________________________________________________________\n",
            "block1_conv2 (Conv2D)           (None, 147, 147, 64) 18432       block1_conv1_act[0][0]           \n",
            "__________________________________________________________________________________________________\n",
            "block1_conv2_bn (BatchNormaliza (None, 147, 147, 64) 256         block1_conv2[0][0]               \n",
            "__________________________________________________________________________________________________\n",
            "block1_conv2_act (Activation)   (None, 147, 147, 64) 0           block1_conv2_bn[0][0]            \n",
            "__________________________________________________________________________________________________\n",
            "block2_sepconv1 (SeparableConv2 (None, 147, 147, 128 8768        block1_conv2_act[0][0]           \n",
            "__________________________________________________________________________________________________\n",
            "block2_sepconv1_bn (BatchNormal (None, 147, 147, 128 512         block2_sepconv1[0][0]            \n",
            "__________________________________________________________________________________________________\n",
            "block2_sepconv2_act (Activation (None, 147, 147, 128 0           block2_sepconv1_bn[0][0]         \n",
            "__________________________________________________________________________________________________\n",
            "block2_sepconv2 (SeparableConv2 (None, 147, 147, 128 17536       block2_sepconv2_act[0][0]        \n",
            "__________________________________________________________________________________________________\n",
            "block2_sepconv2_bn (BatchNormal (None, 147, 147, 128 512         block2_sepconv2[0][0]            \n",
            "__________________________________________________________________________________________________\n",
            "conv2d (Conv2D)                 (None, 74, 74, 128)  8192        block1_conv2_act[0][0]           \n",
            "__________________________________________________________________________________________________\n",
            "block2_pool (MaxPooling2D)      (None, 74, 74, 128)  0           block2_sepconv2_bn[0][0]         \n",
            "__________________________________________________________________________________________________\n",
            "batch_normalization (BatchNorma (None, 74, 74, 128)  512         conv2d[0][0]                     \n",
            "__________________________________________________________________________________________________\n",
            "add (Add)                       (None, 74, 74, 128)  0           block2_pool[0][0]                \n",
            "                                                                 batch_normalization[0][0]        \n",
            "__________________________________________________________________________________________________\n",
            "block3_sepconv1_act (Activation (None, 74, 74, 128)  0           add[0][0]                        \n",
            "__________________________________________________________________________________________________\n",
            "block3_sepconv1 (SeparableConv2 (None, 74, 74, 256)  33920       block3_sepconv1_act[0][0]        \n",
            "__________________________________________________________________________________________________\n",
            "block3_sepconv1_bn (BatchNormal (None, 74, 74, 256)  1024        block3_sepconv1[0][0]            \n",
            "__________________________________________________________________________________________________\n",
            "block3_sepconv2_act (Activation (None, 74, 74, 256)  0           block3_sepconv1_bn[0][0]         \n",
            "__________________________________________________________________________________________________\n",
            "block3_sepconv2 (SeparableConv2 (None, 74, 74, 256)  67840       block3_sepconv2_act[0][0]        \n",
            "__________________________________________________________________________________________________\n",
            "block3_sepconv2_bn (BatchNormal (None, 74, 74, 256)  1024        block3_sepconv2[0][0]            \n",
            "__________________________________________________________________________________________________\n",
            "conv2d_1 (Conv2D)               (None, 37, 37, 256)  32768       add[0][0]                        \n",
            "__________________________________________________________________________________________________\n",
            "block3_pool (MaxPooling2D)      (None, 37, 37, 256)  0           block3_sepconv2_bn[0][0]         \n",
            "__________________________________________________________________________________________________\n",
            "batch_normalization_1 (BatchNor (None, 37, 37, 256)  1024        conv2d_1[0][0]                   \n",
            "__________________________________________________________________________________________________\n",
            "add_1 (Add)                     (None, 37, 37, 256)  0           block3_pool[0][0]                \n",
            "                                                                 batch_normalization_1[0][0]      \n",
            "__________________________________________________________________________________________________\n",
            "block4_sepconv1_act (Activation (None, 37, 37, 256)  0           add_1[0][0]                      \n",
            "__________________________________________________________________________________________________\n",
            "block4_sepconv1 (SeparableConv2 (None, 37, 37, 728)  188672      block4_sepconv1_act[0][0]        \n",
            "__________________________________________________________________________________________________\n",
            "block4_sepconv1_bn (BatchNormal (None, 37, 37, 728)  2912        block4_sepconv1[0][0]            \n",
            "__________________________________________________________________________________________________\n",
            "block4_sepconv2_act (Activation (None, 37, 37, 728)  0           block4_sepconv1_bn[0][0]         \n",
            "__________________________________________________________________________________________________\n",
            "block4_sepconv2 (SeparableConv2 (None, 37, 37, 728)  536536      block4_sepconv2_act[0][0]        \n",
            "__________________________________________________________________________________________________\n",
            "block4_sepconv2_bn (BatchNormal (None, 37, 37, 728)  2912        block4_sepconv2[0][0]            \n",
            "__________________________________________________________________________________________________\n",
            "conv2d_2 (Conv2D)               (None, 19, 19, 728)  186368      add_1[0][0]                      \n",
            "__________________________________________________________________________________________________\n",
            "block4_pool (MaxPooling2D)      (None, 19, 19, 728)  0           block4_sepconv2_bn[0][0]         \n",
            "__________________________________________________________________________________________________\n",
            "batch_normalization_2 (BatchNor (None, 19, 19, 728)  2912        conv2d_2[0][0]                   \n",
            "__________________________________________________________________________________________________\n",
            "add_2 (Add)                     (None, 19, 19, 728)  0           block4_pool[0][0]                \n",
            "                                                                 batch_normalization_2[0][0]      \n",
            "__________________________________________________________________________________________________\n",
            "block5_sepconv1_act (Activation (None, 19, 19, 728)  0           add_2[0][0]                      \n",
            "__________________________________________________________________________________________________\n",
            "block5_sepconv1 (SeparableConv2 (None, 19, 19, 728)  536536      block5_sepconv1_act[0][0]        \n",
            "__________________________________________________________________________________________________\n",
            "block5_sepconv1_bn (BatchNormal (None, 19, 19, 728)  2912        block5_sepconv1[0][0]            \n",
            "__________________________________________________________________________________________________\n",
            "block5_sepconv2_act (Activation (None, 19, 19, 728)  0           block5_sepconv1_bn[0][0]         \n",
            "__________________________________________________________________________________________________\n",
            "block5_sepconv2 (SeparableConv2 (None, 19, 19, 728)  536536      block5_sepconv2_act[0][0]        \n",
            "__________________________________________________________________________________________________\n",
            "block5_sepconv2_bn (BatchNormal (None, 19, 19, 728)  2912        block5_sepconv2[0][0]            \n",
            "__________________________________________________________________________________________________\n",
            "block5_sepconv3_act (Activation (None, 19, 19, 728)  0           block5_sepconv2_bn[0][0]         \n",
            "__________________________________________________________________________________________________\n",
            "block5_sepconv3 (SeparableConv2 (None, 19, 19, 728)  536536      block5_sepconv3_act[0][0]        \n",
            "__________________________________________________________________________________________________\n",
            "block5_sepconv3_bn (BatchNormal (None, 19, 19, 728)  2912        block5_sepconv3[0][0]            \n",
            "__________________________________________________________________________________________________\n",
            "add_3 (Add)                     (None, 19, 19, 728)  0           block5_sepconv3_bn[0][0]         \n",
            "                                                                 add_2[0][0]                      \n",
            "__________________________________________________________________________________________________\n",
            "block6_sepconv1_act (Activation (None, 19, 19, 728)  0           add_3[0][0]                      \n",
            "__________________________________________________________________________________________________\n",
            "block6_sepconv1 (SeparableConv2 (None, 19, 19, 728)  536536      block6_sepconv1_act[0][0]        \n",
            "__________________________________________________________________________________________________\n",
            "block6_sepconv1_bn (BatchNormal (None, 19, 19, 728)  2912        block6_sepconv1[0][0]            \n",
            "__________________________________________________________________________________________________\n",
            "block6_sepconv2_act (Activation (None, 19, 19, 728)  0           block6_sepconv1_bn[0][0]         \n",
            "__________________________________________________________________________________________________\n",
            "block6_sepconv2 (SeparableConv2 (None, 19, 19, 728)  536536      block6_sepconv2_act[0][0]        \n",
            "__________________________________________________________________________________________________\n",
            "block6_sepconv2_bn (BatchNormal (None, 19, 19, 728)  2912        block6_sepconv2[0][0]            \n",
            "__________________________________________________________________________________________________\n",
            "block6_sepconv3_act (Activation (None, 19, 19, 728)  0           block6_sepconv2_bn[0][0]         \n",
            "__________________________________________________________________________________________________\n",
            "block6_sepconv3 (SeparableConv2 (None, 19, 19, 728)  536536      block6_sepconv3_act[0][0]        \n",
            "__________________________________________________________________________________________________\n",
            "block6_sepconv3_bn (BatchNormal (None, 19, 19, 728)  2912        block6_sepconv3[0][0]            \n",
            "__________________________________________________________________________________________________\n",
            "add_4 (Add)                     (None, 19, 19, 728)  0           block6_sepconv3_bn[0][0]         \n",
            "                                                                 add_3[0][0]                      \n",
            "__________________________________________________________________________________________________\n",
            "block7_sepconv1_act (Activation (None, 19, 19, 728)  0           add_4[0][0]                      \n",
            "__________________________________________________________________________________________________\n",
            "block7_sepconv1 (SeparableConv2 (None, 19, 19, 728)  536536      block7_sepconv1_act[0][0]        \n",
            "__________________________________________________________________________________________________\n",
            "block7_sepconv1_bn (BatchNormal (None, 19, 19, 728)  2912        block7_sepconv1[0][0]            \n",
            "__________________________________________________________________________________________________\n",
            "block7_sepconv2_act (Activation (None, 19, 19, 728)  0           block7_sepconv1_bn[0][0]         \n",
            "__________________________________________________________________________________________________\n",
            "block7_sepconv2 (SeparableConv2 (None, 19, 19, 728)  536536      block7_sepconv2_act[0][0]        \n",
            "__________________________________________________________________________________________________\n",
            "block7_sepconv2_bn (BatchNormal (None, 19, 19, 728)  2912        block7_sepconv2[0][0]            \n",
            "__________________________________________________________________________________________________\n",
            "block7_sepconv3_act (Activation (None, 19, 19, 728)  0           block7_sepconv2_bn[0][0]         \n",
            "__________________________________________________________________________________________________\n",
            "block7_sepconv3 (SeparableConv2 (None, 19, 19, 728)  536536      block7_sepconv3_act[0][0]        \n",
            "__________________________________________________________________________________________________\n",
            "block7_sepconv3_bn (BatchNormal (None, 19, 19, 728)  2912        block7_sepconv3[0][0]            \n",
            "__________________________________________________________________________________________________\n",
            "add_5 (Add)                     (None, 19, 19, 728)  0           block7_sepconv3_bn[0][0]         \n",
            "                                                                 add_4[0][0]                      \n",
            "__________________________________________________________________________________________________\n",
            "block8_sepconv1_act (Activation (None, 19, 19, 728)  0           add_5[0][0]                      \n",
            "__________________________________________________________________________________________________\n",
            "block8_sepconv1 (SeparableConv2 (None, 19, 19, 728)  536536      block8_sepconv1_act[0][0]        \n",
            "__________________________________________________________________________________________________\n",
            "block8_sepconv1_bn (BatchNormal (None, 19, 19, 728)  2912        block8_sepconv1[0][0]            \n",
            "__________________________________________________________________________________________________\n",
            "block8_sepconv2_act (Activation (None, 19, 19, 728)  0           block8_sepconv1_bn[0][0]         \n",
            "__________________________________________________________________________________________________\n",
            "block8_sepconv2 (SeparableConv2 (None, 19, 19, 728)  536536      block8_sepconv2_act[0][0]        \n",
            "__________________________________________________________________________________________________\n",
            "block8_sepconv2_bn (BatchNormal (None, 19, 19, 728)  2912        block8_sepconv2[0][0]            \n",
            "__________________________________________________________________________________________________\n",
            "block8_sepconv3_act (Activation (None, 19, 19, 728)  0           block8_sepconv2_bn[0][0]         \n",
            "__________________________________________________________________________________________________\n",
            "block8_sepconv3 (SeparableConv2 (None, 19, 19, 728)  536536      block8_sepconv3_act[0][0]        \n",
            "__________________________________________________________________________________________________\n",
            "block8_sepconv3_bn (BatchNormal (None, 19, 19, 728)  2912        block8_sepconv3[0][0]            \n",
            "__________________________________________________________________________________________________\n",
            "add_6 (Add)                     (None, 19, 19, 728)  0           block8_sepconv3_bn[0][0]         \n",
            "                                                                 add_5[0][0]                      \n",
            "__________________________________________________________________________________________________\n",
            "block9_sepconv1_act (Activation (None, 19, 19, 728)  0           add_6[0][0]                      \n",
            "__________________________________________________________________________________________________\n",
            "block9_sepconv1 (SeparableConv2 (None, 19, 19, 728)  536536      block9_sepconv1_act[0][0]        \n",
            "__________________________________________________________________________________________________\n",
            "block9_sepconv1_bn (BatchNormal (None, 19, 19, 728)  2912        block9_sepconv1[0][0]            \n",
            "__________________________________________________________________________________________________\n",
            "block9_sepconv2_act (Activation (None, 19, 19, 728)  0           block9_sepconv1_bn[0][0]         \n",
            "__________________________________________________________________________________________________\n",
            "block9_sepconv2 (SeparableConv2 (None, 19, 19, 728)  536536      block9_sepconv2_act[0][0]        \n",
            "__________________________________________________________________________________________________\n",
            "block9_sepconv2_bn (BatchNormal (None, 19, 19, 728)  2912        block9_sepconv2[0][0]            \n",
            "__________________________________________________________________________________________________\n",
            "block9_sepconv3_act (Activation (None, 19, 19, 728)  0           block9_sepconv2_bn[0][0]         \n",
            "__________________________________________________________________________________________________\n",
            "block9_sepconv3 (SeparableConv2 (None, 19, 19, 728)  536536      block9_sepconv3_act[0][0]        \n",
            "__________________________________________________________________________________________________\n",
            "block9_sepconv3_bn (BatchNormal (None, 19, 19, 728)  2912        block9_sepconv3[0][0]            \n",
            "__________________________________________________________________________________________________\n",
            "add_7 (Add)                     (None, 19, 19, 728)  0           block9_sepconv3_bn[0][0]         \n",
            "                                                                 add_6[0][0]                      \n",
            "__________________________________________________________________________________________________\n",
            "block10_sepconv1_act (Activatio (None, 19, 19, 728)  0           add_7[0][0]                      \n",
            "__________________________________________________________________________________________________\n",
            "block10_sepconv1 (SeparableConv (None, 19, 19, 728)  536536      block10_sepconv1_act[0][0]       \n",
            "__________________________________________________________________________________________________\n",
            "block10_sepconv1_bn (BatchNorma (None, 19, 19, 728)  2912        block10_sepconv1[0][0]           \n",
            "__________________________________________________________________________________________________\n",
            "block10_sepconv2_act (Activatio (None, 19, 19, 728)  0           block10_sepconv1_bn[0][0]        \n",
            "__________________________________________________________________________________________________\n",
            "block10_sepconv2 (SeparableConv (None, 19, 19, 728)  536536      block10_sepconv2_act[0][0]       \n",
            "__________________________________________________________________________________________________\n",
            "block10_sepconv2_bn (BatchNorma (None, 19, 19, 728)  2912        block10_sepconv2[0][0]           \n",
            "__________________________________________________________________________________________________\n",
            "block10_sepconv3_act (Activatio (None, 19, 19, 728)  0           block10_sepconv2_bn[0][0]        \n",
            "__________________________________________________________________________________________________\n",
            "block10_sepconv3 (SeparableConv (None, 19, 19, 728)  536536      block10_sepconv3_act[0][0]       \n",
            "__________________________________________________________________________________________________\n",
            "block10_sepconv3_bn (BatchNorma (None, 19, 19, 728)  2912        block10_sepconv3[0][0]           \n",
            "__________________________________________________________________________________________________\n",
            "add_8 (Add)                     (None, 19, 19, 728)  0           block10_sepconv3_bn[0][0]        \n",
            "                                                                 add_7[0][0]                      \n",
            "__________________________________________________________________________________________________\n",
            "block11_sepconv1_act (Activatio (None, 19, 19, 728)  0           add_8[0][0]                      \n",
            "__________________________________________________________________________________________________\n",
            "block11_sepconv1 (SeparableConv (None, 19, 19, 728)  536536      block11_sepconv1_act[0][0]       \n",
            "__________________________________________________________________________________________________\n",
            "block11_sepconv1_bn (BatchNorma (None, 19, 19, 728)  2912        block11_sepconv1[0][0]           \n",
            "__________________________________________________________________________________________________\n",
            "block11_sepconv2_act (Activatio (None, 19, 19, 728)  0           block11_sepconv1_bn[0][0]        \n",
            "__________________________________________________________________________________________________\n",
            "block11_sepconv2 (SeparableConv (None, 19, 19, 728)  536536      block11_sepconv2_act[0][0]       \n",
            "__________________________________________________________________________________________________\n",
            "block11_sepconv2_bn (BatchNorma (None, 19, 19, 728)  2912        block11_sepconv2[0][0]           \n",
            "__________________________________________________________________________________________________\n",
            "block11_sepconv3_act (Activatio (None, 19, 19, 728)  0           block11_sepconv2_bn[0][0]        \n",
            "__________________________________________________________________________________________________\n",
            "block11_sepconv3 (SeparableConv (None, 19, 19, 728)  536536      block11_sepconv3_act[0][0]       \n",
            "__________________________________________________________________________________________________\n",
            "block11_sepconv3_bn (BatchNorma (None, 19, 19, 728)  2912        block11_sepconv3[0][0]           \n",
            "__________________________________________________________________________________________________\n",
            "add_9 (Add)                     (None, 19, 19, 728)  0           block11_sepconv3_bn[0][0]        \n",
            "                                                                 add_8[0][0]                      \n",
            "__________________________________________________________________________________________________\n",
            "block12_sepconv1_act (Activatio (None, 19, 19, 728)  0           add_9[0][0]                      \n",
            "__________________________________________________________________________________________________\n",
            "block12_sepconv1 (SeparableConv (None, 19, 19, 728)  536536      block12_sepconv1_act[0][0]       \n",
            "__________________________________________________________________________________________________\n",
            "block12_sepconv1_bn (BatchNorma (None, 19, 19, 728)  2912        block12_sepconv1[0][0]           \n",
            "__________________________________________________________________________________________________\n",
            "block12_sepconv2_act (Activatio (None, 19, 19, 728)  0           block12_sepconv1_bn[0][0]        \n",
            "__________________________________________________________________________________________________\n",
            "block12_sepconv2 (SeparableConv (None, 19, 19, 728)  536536      block12_sepconv2_act[0][0]       \n",
            "__________________________________________________________________________________________________\n",
            "block12_sepconv2_bn (BatchNorma (None, 19, 19, 728)  2912        block12_sepconv2[0][0]           \n",
            "__________________________________________________________________________________________________\n",
            "block12_sepconv3_act (Activatio (None, 19, 19, 728)  0           block12_sepconv2_bn[0][0]        \n",
            "__________________________________________________________________________________________________\n",
            "block12_sepconv3 (SeparableConv (None, 19, 19, 728)  536536      block12_sepconv3_act[0][0]       \n",
            "__________________________________________________________________________________________________\n",
            "block12_sepconv3_bn (BatchNorma (None, 19, 19, 728)  2912        block12_sepconv3[0][0]           \n",
            "__________________________________________________________________________________________________\n",
            "add_10 (Add)                    (None, 19, 19, 728)  0           block12_sepconv3_bn[0][0]        \n",
            "                                                                 add_9[0][0]                      \n",
            "__________________________________________________________________________________________________\n",
            "block13_sepconv1_act (Activatio (None, 19, 19, 728)  0           add_10[0][0]                     \n",
            "__________________________________________________________________________________________________\n",
            "block13_sepconv1 (SeparableConv (None, 19, 19, 728)  536536      block13_sepconv1_act[0][0]       \n",
            "__________________________________________________________________________________________________\n",
            "block13_sepconv1_bn (BatchNorma (None, 19, 19, 728)  2912        block13_sepconv1[0][0]           \n",
            "__________________________________________________________________________________________________\n",
            "block13_sepconv2_act (Activatio (None, 19, 19, 728)  0           block13_sepconv1_bn[0][0]        \n",
            "__________________________________________________________________________________________________\n",
            "block13_sepconv2 (SeparableConv (None, 19, 19, 1024) 752024      block13_sepconv2_act[0][0]       \n",
            "__________________________________________________________________________________________________\n",
            "block13_sepconv2_bn (BatchNorma (None, 19, 19, 1024) 4096        block13_sepconv2[0][0]           \n",
            "__________________________________________________________________________________________________\n",
            "conv2d_3 (Conv2D)               (None, 10, 10, 1024) 745472      add_10[0][0]                     \n",
            "__________________________________________________________________________________________________\n",
            "block13_pool (MaxPooling2D)     (None, 10, 10, 1024) 0           block13_sepconv2_bn[0][0]        \n",
            "__________________________________________________________________________________________________\n",
            "batch_normalization_3 (BatchNor (None, 10, 10, 1024) 4096        conv2d_3[0][0]                   \n",
            "__________________________________________________________________________________________________\n",
            "add_11 (Add)                    (None, 10, 10, 1024) 0           block13_pool[0][0]               \n",
            "                                                                 batch_normalization_3[0][0]      \n",
            "__________________________________________________________________________________________________\n",
            "block14_sepconv1 (SeparableConv (None, 10, 10, 1536) 1582080     add_11[0][0]                     \n",
            "__________________________________________________________________________________________________\n",
            "block14_sepconv1_bn (BatchNorma (None, 10, 10, 1536) 6144        block14_sepconv1[0][0]           \n",
            "__________________________________________________________________________________________________\n",
            "block14_sepconv1_act (Activatio (None, 10, 10, 1536) 0           block14_sepconv1_bn[0][0]        \n",
            "__________________________________________________________________________________________________\n",
            "block14_sepconv2 (SeparableConv (None, 10, 10, 2048) 3159552     block14_sepconv1_act[0][0]       \n",
            "__________________________________________________________________________________________________\n",
            "block14_sepconv2_bn (BatchNorma (None, 10, 10, 2048) 8192        block14_sepconv2[0][0]           \n",
            "__________________________________________________________________________________________________\n",
            "block14_sepconv2_act (Activatio (None, 10, 10, 2048) 0           block14_sepconv2_bn[0][0]        \n",
            "__________________________________________________________________________________________________\n",
            "flatten (Flatten)               (None, 204800)       0           block14_sepconv2_act[0][0]       \n",
            "__________________________________________________________________________________________________\n",
            "dense (Dense)                   (None, 1024)         209716224   flatten[0][0]                    \n",
            "__________________________________________________________________________________________________\n",
            "dropout (Dropout)               (None, 1024)         0           dense[0][0]                      \n",
            "__________________________________________________________________________________________________\n",
            "dense_1 (Dense)                 (None, 225)          230625      dropout[0][0]                    \n",
            "==================================================================================================\n",
            "Total params: 230,808,329\n",
            "Trainable params: 209,946,849\n",
            "Non-trainable params: 20,861,480\n",
            "__________________________________________________________________________________________________\n"
          ],
          "name": "stdout"
        }
      ]
    },
    {
      "cell_type": "code",
      "metadata": {
        "id": "ueeH7vAxvo3C"
      },
      "source": [
        "opt = Adam(lr=0.00005)\n",
        "\n",
        "model_Xception.compile(\n",
        "  loss='categorical_crossentropy',\n",
        "  optimizer= opt,\n",
        "  metrics=['accuracy']\n",
        ")"
      ],
      "execution_count": 9,
      "outputs": []
    },
    {
      "cell_type": "markdown",
      "metadata": {
        "id": "xW5HRIQhL1k6"
      },
      "source": [
        "# Preprocessing the Images"
      ]
    },
    {
      "cell_type": "code",
      "metadata": {
        "colab": {
          "base_uri": "https://localhost:8080/"
        },
        "id": "vm1f3ainvsEQ",
        "outputId": "7496c41d-ba8b-46fc-e6c9-4456a9fdda11"
      },
      "source": [
        "from keras.preprocessing.image import ImageDataGenerator\n",
        "\n",
        "train_datagen = ImageDataGenerator(\n",
        "    shear_range = 0.2,\n",
        "    horizontal_flip = True,\n",
        "    rescale = 1./255,\n",
        "    fill_mode = 'nearest')\n",
        "validation_datagen = ImageDataGenerator(rescale = 1./255)\n",
        "\n",
        "training_set = train_datagen.flow_from_directory('train/',\n",
        "                                                 target_size = (299, 299),\n",
        "                                                 batch_size = 32,\n",
        "                                                 class_mode = 'categorical')\n",
        "\n",
        "validation_set = validation_datagen.flow_from_directory('valid/',\n",
        "                                            target_size = (299, 299),\n",
        "                                            batch_size = 32,\n",
        "                                            class_mode = 'categorical')"
      ],
      "execution_count": 10,
      "outputs": [
        {
          "output_type": "stream",
          "text": [
            "Found 31316 images belonging to 225 classes.\n",
            "Found 1125 images belonging to 225 classes.\n"
          ],
          "name": "stdout"
        }
      ]
    },
    {
      "cell_type": "markdown",
      "metadata": {
        "id": "EJYrigLdL_L4"
      },
      "source": [
        "# Training the Model"
      ]
    },
    {
      "cell_type": "code",
      "metadata": {
        "colab": {
          "base_uri": "https://localhost:8080/"
        },
        "id": "Sxbvs0eTv-J8",
        "outputId": "14662396-88ae-4c74-a81f-4895ab2dc2d0"
      },
      "source": [
        "history_Xception = model_Xception.fit_generator(\n",
        "  training_set,\n",
        "  validation_data=validation_set,\n",
        "  epochs=50,\n",
        "  verbose = 1,\n",
        "  steps_per_epoch=150,\n",
        "  validation_steps=32\n",
        "  )"
      ],
      "execution_count": 11,
      "outputs": [
        {
          "output_type": "stream",
          "text": [
            "/usr/local/lib/python3.6/dist-packages/tensorflow/python/keras/engine/training.py:1844: UserWarning: `Model.fit_generator` is deprecated and will be removed in a future version. Please use `Model.fit`, which supports generators.\n",
            "  warnings.warn('`Model.fit_generator` is deprecated and '\n"
          ],
          "name": "stderr"
        },
        {
          "output_type": "stream",
          "text": [
            "Epoch 1/50\n",
            "150/150 [==============================] - 114s 707ms/step - loss: 4.7175 - accuracy: 0.1570 - val_loss: 1.9455 - val_accuracy: 0.5742\n",
            "Epoch 2/50\n",
            "150/150 [==============================] - 105s 701ms/step - loss: 2.4948 - accuracy: 0.4358 - val_loss: 1.1668 - val_accuracy: 0.7246\n",
            "Epoch 3/50\n",
            "150/150 [==============================] - 105s 699ms/step - loss: 1.7724 - accuracy: 0.5689 - val_loss: 0.8013 - val_accuracy: 0.7979\n",
            "Epoch 4/50\n",
            "150/150 [==============================] - 105s 696ms/step - loss: 1.4171 - accuracy: 0.6547 - val_loss: 0.5872 - val_accuracy: 0.8613\n",
            "Epoch 5/50\n",
            "150/150 [==============================] - 105s 697ms/step - loss: 1.1999 - accuracy: 0.6981 - val_loss: 0.5708 - val_accuracy: 0.8604\n",
            "Epoch 6/50\n",
            "150/150 [==============================] - 104s 695ms/step - loss: 1.1027 - accuracy: 0.7280 - val_loss: 0.4753 - val_accuracy: 0.8730\n",
            "Epoch 7/50\n",
            "150/150 [==============================] - 104s 694ms/step - loss: 1.0214 - accuracy: 0.7343 - val_loss: 0.4015 - val_accuracy: 0.8877\n",
            "Epoch 8/50\n",
            "150/150 [==============================] - 105s 697ms/step - loss: 0.9455 - accuracy: 0.7589 - val_loss: 0.4184 - val_accuracy: 0.8867\n",
            "Epoch 9/50\n",
            "150/150 [==============================] - 105s 696ms/step - loss: 0.8966 - accuracy: 0.7708 - val_loss: 0.3559 - val_accuracy: 0.9053\n",
            "Epoch 10/50\n",
            "150/150 [==============================] - 105s 696ms/step - loss: 0.7978 - accuracy: 0.7830 - val_loss: 0.3291 - val_accuracy: 0.9111\n",
            "Epoch 11/50\n",
            "150/150 [==============================] - 105s 696ms/step - loss: 0.8079 - accuracy: 0.7881 - val_loss: 0.3314 - val_accuracy: 0.9033\n",
            "Epoch 12/50\n",
            "150/150 [==============================] - 104s 694ms/step - loss: 0.7286 - accuracy: 0.8088 - val_loss: 0.3052 - val_accuracy: 0.9102\n",
            "Epoch 13/50\n",
            "150/150 [==============================] - 104s 695ms/step - loss: 0.7113 - accuracy: 0.8123 - val_loss: 0.2846 - val_accuracy: 0.9229\n",
            "Epoch 14/50\n",
            "150/150 [==============================] - 104s 695ms/step - loss: 0.6548 - accuracy: 0.8270 - val_loss: 0.2747 - val_accuracy: 0.9141\n",
            "Epoch 15/50\n",
            "150/150 [==============================] - 104s 694ms/step - loss: 0.6556 - accuracy: 0.8259 - val_loss: 0.2469 - val_accuracy: 0.9355\n",
            "Epoch 16/50\n",
            "150/150 [==============================] - 104s 694ms/step - loss: 0.6378 - accuracy: 0.8378 - val_loss: 0.2426 - val_accuracy: 0.9385\n",
            "Epoch 17/50\n",
            "150/150 [==============================] - 104s 696ms/step - loss: 0.5881 - accuracy: 0.8419 - val_loss: 0.2787 - val_accuracy: 0.9229\n",
            "Epoch 18/50\n",
            "150/150 [==============================] - 104s 696ms/step - loss: 0.5606 - accuracy: 0.8492 - val_loss: 0.2711 - val_accuracy: 0.9219\n",
            "Epoch 19/50\n",
            "150/150 [==============================] - 104s 694ms/step - loss: 0.5825 - accuracy: 0.8429 - val_loss: 0.2477 - val_accuracy: 0.9336\n",
            "Epoch 20/50\n",
            "150/150 [==============================] - 104s 695ms/step - loss: 0.5280 - accuracy: 0.8575 - val_loss: 0.2436 - val_accuracy: 0.9307\n",
            "Epoch 21/50\n",
            "150/150 [==============================] - 104s 694ms/step - loss: 0.5467 - accuracy: 0.8502 - val_loss: 0.2661 - val_accuracy: 0.9229\n",
            "Epoch 22/50\n",
            "150/150 [==============================] - 104s 694ms/step - loss: 0.5055 - accuracy: 0.8593 - val_loss: 0.2486 - val_accuracy: 0.9238\n",
            "Epoch 23/50\n",
            "150/150 [==============================] - 104s 695ms/step - loss: 0.5044 - accuracy: 0.8573 - val_loss: 0.2455 - val_accuracy: 0.9346\n",
            "Epoch 24/50\n",
            "150/150 [==============================] - 104s 696ms/step - loss: 0.4620 - accuracy: 0.8768 - val_loss: 0.2511 - val_accuracy: 0.9277\n",
            "Epoch 25/50\n",
            "150/150 [==============================] - 104s 696ms/step - loss: 0.5342 - accuracy: 0.8589 - val_loss: 0.2701 - val_accuracy: 0.9258\n",
            "Epoch 26/50\n",
            "150/150 [==============================] - 104s 696ms/step - loss: 0.4725 - accuracy: 0.8625 - val_loss: 0.2541 - val_accuracy: 0.9297\n",
            "Epoch 27/50\n",
            "150/150 [==============================] - 104s 695ms/step - loss: 0.4311 - accuracy: 0.8699 - val_loss: 0.2456 - val_accuracy: 0.9307\n",
            "Epoch 28/50\n",
            "150/150 [==============================] - 104s 695ms/step - loss: 0.4372 - accuracy: 0.8724 - val_loss: 0.1971 - val_accuracy: 0.9385\n",
            "Epoch 29/50\n",
            "150/150 [==============================] - 105s 699ms/step - loss: 0.4258 - accuracy: 0.8798 - val_loss: 0.2454 - val_accuracy: 0.9277\n",
            "Epoch 30/50\n",
            "150/150 [==============================] - 105s 696ms/step - loss: 0.4288 - accuracy: 0.8811 - val_loss: 0.2217 - val_accuracy: 0.9346\n",
            "Epoch 31/50\n",
            "150/150 [==============================] - 104s 695ms/step - loss: 0.4526 - accuracy: 0.8828 - val_loss: 0.2020 - val_accuracy: 0.9463\n",
            "Epoch 32/50\n",
            "150/150 [==============================] - 104s 695ms/step - loss: 0.4912 - accuracy: 0.8724 - val_loss: 0.2228 - val_accuracy: 0.9355\n",
            "Epoch 33/50\n",
            "150/150 [==============================] - 104s 694ms/step - loss: 0.3789 - accuracy: 0.8903 - val_loss: 0.2108 - val_accuracy: 0.9385\n",
            "Epoch 34/50\n",
            "150/150 [==============================] - 105s 698ms/step - loss: 0.3846 - accuracy: 0.8938 - val_loss: 0.2084 - val_accuracy: 0.9473\n",
            "Epoch 35/50\n",
            "150/150 [==============================] - 105s 698ms/step - loss: 0.3313 - accuracy: 0.9004 - val_loss: 0.2033 - val_accuracy: 0.9434\n",
            "Epoch 36/50\n",
            "150/150 [==============================] - 105s 697ms/step - loss: 0.3843 - accuracy: 0.8876 - val_loss: 0.2111 - val_accuracy: 0.9434\n",
            "Epoch 37/50\n",
            "150/150 [==============================] - 105s 700ms/step - loss: 0.3602 - accuracy: 0.8915 - val_loss: 0.2086 - val_accuracy: 0.9326\n",
            "Epoch 38/50\n",
            "150/150 [==============================] - 105s 698ms/step - loss: 0.3529 - accuracy: 0.8950 - val_loss: 0.1748 - val_accuracy: 0.9443\n",
            "Epoch 39/50\n",
            "150/150 [==============================] - 105s 697ms/step - loss: 0.3764 - accuracy: 0.8950 - val_loss: 0.2075 - val_accuracy: 0.9395\n",
            "Epoch 40/50\n",
            "150/150 [==============================] - 105s 698ms/step - loss: 0.3784 - accuracy: 0.8911 - val_loss: 0.2203 - val_accuracy: 0.9385\n",
            "Epoch 41/50\n",
            "150/150 [==============================] - 105s 698ms/step - loss: 0.3343 - accuracy: 0.9028 - val_loss: 0.1891 - val_accuracy: 0.9404\n",
            "Epoch 42/50\n",
            "150/150 [==============================] - 105s 698ms/step - loss: 0.2950 - accuracy: 0.9176 - val_loss: 0.2077 - val_accuracy: 0.9404\n",
            "Epoch 43/50\n",
            "150/150 [==============================] - 105s 699ms/step - loss: 0.3072 - accuracy: 0.9068 - val_loss: 0.1932 - val_accuracy: 0.9326\n",
            "Epoch 44/50\n",
            "150/150 [==============================] - 105s 697ms/step - loss: 0.3307 - accuracy: 0.9145 - val_loss: 0.1921 - val_accuracy: 0.9443\n",
            "Epoch 45/50\n",
            "150/150 [==============================] - 105s 698ms/step - loss: 0.3548 - accuracy: 0.8973 - val_loss: 0.1871 - val_accuracy: 0.9473\n",
            "Epoch 46/50\n",
            "150/150 [==============================] - 105s 698ms/step - loss: 0.3278 - accuracy: 0.9031 - val_loss: 0.1875 - val_accuracy: 0.9482\n",
            "Epoch 47/50\n",
            "150/150 [==============================] - 105s 697ms/step - loss: 0.3123 - accuracy: 0.9097 - val_loss: 0.1901 - val_accuracy: 0.9473\n",
            "Epoch 48/50\n",
            "150/150 [==============================] - 105s 699ms/step - loss: 0.2771 - accuracy: 0.9168 - val_loss: 0.1991 - val_accuracy: 0.9424\n",
            "Epoch 49/50\n",
            "150/150 [==============================] - 105s 699ms/step - loss: 0.3564 - accuracy: 0.8990 - val_loss: 0.1848 - val_accuracy: 0.9365\n",
            "Epoch 50/50\n",
            "150/150 [==============================] - 105s 697ms/step - loss: 0.3317 - accuracy: 0.9057 - val_loss: 0.1936 - val_accuracy: 0.9463\n"
          ],
          "name": "stdout"
        }
      ]
    },
    {
      "cell_type": "markdown",
      "metadata": {
        "id": "_WW86UUrMCpJ"
      },
      "source": [
        "# Accuracy Graphs and Loss Graphs (Model Testing)"
      ]
    },
    {
      "cell_type": "code",
      "metadata": {
        "colab": {
          "base_uri": "https://localhost:8080/",
          "height": 295
        },
        "id": "9vd-VHqFv6Af",
        "outputId": "25cd8ed7-8c95-420b-f437-b0d31a6acd42"
      },
      "source": [
        "plt.plot(history_Xception.history['val_accuracy'])\n",
        "plt.plot(history_Xception.history['accuracy'])\n",
        "plt.title('Accuracy Graph')\n",
        "plt.xlabel('epoch')\n",
        "plt.ylabel('accuracy')\n",
        "plt.legend(['test', 'train'], loc='lower right')\n",
        "plt.show()"
      ],
      "execution_count": 12,
      "outputs": [
        {
          "output_type": "display_data",
          "data": {
            "image/png": "[encoded data removed]",
            "text/plain": [
              "<Figure size 432x288 with 1 Axes>"
            ]
          },
          "metadata": {
            "tags": [],
            "needs_background": "light"
          }
        }
      ]
    },
    {
      "cell_type": "code",
      "metadata": {
        "colab": {
          "base_uri": "https://localhost:8080/",
          "height": 295
        },
        "id": "h0ruAGi6v38-",
        "outputId": "00b4bcb2-8f46-4ae2-bbdd-226ff9c13982"
      },
      "source": [
        "plt.plot(history_Xception.history['val_loss'])\n",
        "plt.plot(history_Xception.history['loss'])\n",
        "plt.title('Loss Graphs')\n",
        "plt.xlabel('epoch')\n",
        "plt.ylabel('loss')\n",
        "plt.legend(['test', 'train'], loc='upper right')\n",
        "plt.show()"
      ],
      "execution_count": 13,
      "outputs": [
        {
          "output_type": "display_data",
          "data": {
            "image/png": "[encoded data removed]",
            "text/plain": [
              "<Figure size 432x288 with 1 Axes>"
            ]
          },
          "metadata": {
            "tags": [],
            "needs_background": "light"
          }
        }
      ]
    },
    {
      "cell_type": "markdown",
      "metadata": {
        "id": "zWBY5zz0MMfb"
      },
      "source": [
        "# Saving the Model"
      ]
    },
    {
      "cell_type": "code",
      "metadata": {
        "colab": {
          "base_uri": "https://localhost:8080/"
        },
        "id": "b5TK1Gphv1LI",
        "outputId": "2b4ee146-bdce-4ae0-822c-3e7268790788"
      },
      "source": [
        "from google.colab import drive\n",
        "drive.mount('/content/gdrive')"
      ],
      "execution_count": 14,
      "outputs": [
        {
          "output_type": "stream",
          "text": [
            "Mounted at /content/gdrive\n"
          ],
          "name": "stdout"
        }
      ]
    },
    {
      "cell_type": "code",
      "metadata": {
        "id": "Dgi_fETyLEvv"
      },
      "source": [
        "model_Xception.save('/content/gdrive/My Drive/Model/BirdSpecies_Xception.h5')"
      ],
      "execution_count": 15,
      "outputs": []
    }
  ]
}